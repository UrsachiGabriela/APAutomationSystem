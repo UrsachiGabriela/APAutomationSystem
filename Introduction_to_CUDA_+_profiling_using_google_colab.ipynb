{
  "nbformat": 4,
  "nbformat_minor": 0,
  "metadata": {
    "colab": {
      "provenance": [],
      "include_colab_link": true
    },
    "kernelspec": {
      "name": "python3",
      "display_name": "Python 3"
    },
    "language_info": {
      "name": "python"
    },
    "accelerator": "GPU"
  },
  "cells": [
    {
      "cell_type": "markdown",
      "metadata": {
        "id": "view-in-github",
        "colab_type": "text"
      },
      "source": [
        "<a href=\"https://colab.research.google.com/github/UrsachiGabriela/PGPU_proiect/blob/main/Introduction_to_CUDA_%2B_profiling_using_google_colab.ipynb\" target=\"_parent\"><img src=\"https://colab.research.google.com/assets/colab-badge.svg\" alt=\"Open In Colab\"/></a>"
      ]
    },
    {
      "cell_type": "markdown",
      "metadata": {
        "id": "2WkOA4mcN7Hj"
      },
      "source": [
        "# PGPU - proiect\n"
      ]
    },
    {
      "cell_type": "markdown",
      "source": [
        "# Generare graf"
      ],
      "metadata": {
        "id": "ohn9ZeItRf8F"
      }
    },
    {
      "cell_type": "code",
      "source": [
        "%%writefile graph_generator.cpp\n",
        "\n",
        "#include <iostream>\n",
        "#include <vector>\n",
        "#include <fstream>\n",
        "#include <cstdlib>\n",
        "#include <ctime>\n",
        "#include <algorithm>\n",
        "\n",
        "using namespace std;\n",
        "\n",
        "vector<vector<int>> generateRandomGraph(int numNodes, int numEdges) {\n",
        "    vector<vector<int>> graph(numNodes);\n",
        "    srand(time(0));\n",
        "\n",
        "    for (int i = 0; i < numEdges; ++i) {\n",
        "        int u = rand() % numNodes;\n",
        "        int v = rand() % numNodes;\n",
        "\n",
        "        while (u == v || find(graph[u].begin(), graph[u].end(), v) != graph[u].end()) {\n",
        "            u = rand() % numNodes;\n",
        "            v = rand() % numNodes;\n",
        "        }\n",
        "        graph[u].push_back(v);\n",
        "        graph[v].push_back(u);\n",
        "    }\n",
        "\n",
        "    return graph;\n",
        "}\n",
        "\n",
        "void writeGraphToFile(const string& filename, const vector<vector<int>>& graph) {\n",
        "    ofstream outputFile(filename);\n",
        "    if (!outputFile) {\n",
        "        cerr << \"Eroare la deschiderea fisierului pentru scriere!\" << endl;\n",
        "        return;\n",
        "    }\n",
        "\n",
        "    for (const auto& neighbors : graph) {\n",
        "        for (size_t i = 0; i < neighbors.size(); ++i) {\n",
        "            outputFile << neighbors[i];\n",
        "            if (i != neighbors.size() - 1) {\n",
        "                outputFile << \" \";\n",
        "            }\n",
        "        }\n",
        "        outputFile << endl;\n",
        "    }\n",
        "\n",
        "    outputFile.close();\n",
        "}\n",
        "\n",
        "int main() {\n",
        "    int numNodes = 1000;\n",
        "    int numEdges = 5000;\n",
        "\n",
        "    vector<vector<int>> graph = generateRandomGraph(numNodes, numEdges);\n",
        "\n",
        "    string filename = \"graph_output.txt\";\n",
        "    writeGraphToFile(filename, graph);\n",
        "\n",
        "    cout << \"Graf generat si salvat in \" << filename << endl;\n",
        "\n",
        "    return 0;\n",
        "}\n",
        "\n"
      ],
      "metadata": {
        "colab": {
          "base_uri": "https://localhost:8080/"
        },
        "id": "LWNNXXU2Re8P",
        "outputId": "184ae0b9-04cf-4d10-cf7a-d71733d67fc6"
      },
      "execution_count": 1,
      "outputs": [
        {
          "output_type": "stream",
          "name": "stdout",
          "text": [
            "Writing graph_generator.cpp\n"
          ]
        }
      ]
    },
    {
      "cell_type": "code",
      "source": [
        "!g++ graph_generator.cpp -o graph_generator\n",
        "!./graph_generator\n"
      ],
      "metadata": {
        "colab": {
          "base_uri": "https://localhost:8080/"
        },
        "id": "J6VfwUP7SMQJ",
        "outputId": "7f1bf176-453f-469e-b2bd-b64b80b7f68b"
      },
      "execution_count": 2,
      "outputs": [
        {
          "output_type": "stream",
          "name": "stdout",
          "text": [
            "Graf generat si salvat in graph_output.txt\n"
          ]
        }
      ]
    },
    {
      "cell_type": "code",
      "source": [
        "from google.colab import files\n",
        "files.download('graph_output.txt')\n"
      ],
      "metadata": {
        "colab": {
          "base_uri": "https://localhost:8080/",
          "height": 17
        },
        "id": "XWM7AXsFSm7g",
        "outputId": "c76dccfb-0de7-4f78-9b75-47c0e5fa3444"
      },
      "execution_count": null,
      "outputs": [
        {
          "output_type": "display_data",
          "data": {
            "text/plain": [
              "<IPython.core.display.Javascript object>"
            ],
            "application/javascript": [
              "\n",
              "    async function download(id, filename, size) {\n",
              "      if (!google.colab.kernel.accessAllowed) {\n",
              "        return;\n",
              "      }\n",
              "      const div = document.createElement('div');\n",
              "      const label = document.createElement('label');\n",
              "      label.textContent = `Downloading \"${filename}\": `;\n",
              "      div.appendChild(label);\n",
              "      const progress = document.createElement('progress');\n",
              "      progress.max = size;\n",
              "      div.appendChild(progress);\n",
              "      document.body.appendChild(div);\n",
              "\n",
              "      const buffers = [];\n",
              "      let downloaded = 0;\n",
              "\n",
              "      const channel = await google.colab.kernel.comms.open(id);\n",
              "      // Send a message to notify the kernel that we're ready.\n",
              "      channel.send({})\n",
              "\n",
              "      for await (const message of channel.messages) {\n",
              "        // Send a message to notify the kernel that we're ready.\n",
              "        channel.send({})\n",
              "        if (message.buffers) {\n",
              "          for (const buffer of message.buffers) {\n",
              "            buffers.push(buffer);\n",
              "            downloaded += buffer.byteLength;\n",
              "            progress.value = downloaded;\n",
              "          }\n",
              "        }\n",
              "      }\n",
              "      const blob = new Blob(buffers, {type: 'application/binary'});\n",
              "      const a = document.createElement('a');\n",
              "      a.href = window.URL.createObjectURL(blob);\n",
              "      a.download = filename;\n",
              "      div.appendChild(a);\n",
              "      a.click();\n",
              "      div.remove();\n",
              "    }\n",
              "  "
            ]
          },
          "metadata": {}
        },
        {
          "output_type": "display_data",
          "data": {
            "text/plain": [
              "<IPython.core.display.Javascript object>"
            ],
            "application/javascript": [
              "download(\"download_2a9300c8-cc27-4d37-9f28-83b7da8fd8e8\", \"graph_output.txt\", 38886)"
            ]
          },
          "metadata": {}
        }
      ]
    },
    {
      "cell_type": "markdown",
      "source": [
        "# CPU"
      ],
      "metadata": {
        "id": "d22keM60TyrB"
      }
    },
    {
      "cell_type": "code",
      "source": [
        "%%writefile bfs_cpu.cpp\n",
        "\n",
        "#include <iostream>\n",
        "#include <vector>\n",
        "#include <queue>\n",
        "#include <set>\n",
        "#include <climits>\n",
        "#include <fstream>\n",
        "#include <sstream>\n",
        "#include <string>\n",
        "#include <time.h>\n",
        "\n",
        "using namespace std;\n",
        "\n",
        "vector<vector<int>> readGraphFromFile(const string& filename) {\n",
        "    ifstream inputFile(filename);\n",
        "    if (!inputFile) {\n",
        "        cerr << \"Eroare la deschiderea fisierului!\" << endl;\n",
        "        return {};\n",
        "    }\n",
        "\n",
        "    vector<vector<int>> graph;\n",
        "    string line;\n",
        "\n",
        "    while (getline(inputFile, line)) {\n",
        "        stringstream ss(line);\n",
        "        vector<int> neighbors;\n",
        "        int neighbor;\n",
        "\n",
        "        while (ss >> neighbor) {\n",
        "            neighbors.push_back(neighbor);\n",
        "        }\n",
        "\n",
        "        graph.push_back(neighbors);\n",
        "    }\n",
        "\n",
        "    inputFile.close();\n",
        "    return graph;\n",
        "}\n",
        "\n",
        "\n",
        "\n",
        "void bfs_cpu(const vector<vector<int>>& adjacencyList, int start_node, vector<int>& distance) {\n",
        "    queue<int> to_visit_queue;\n",
        "\n",
        "    fill(distance.begin(), distance.end(), INT_MAX);\n",
        "    distance[start_node] = 0;\n",
        "\n",
        "    to_visit_queue.push(start_node);\n",
        "\n",
        "    while (!to_visit_queue.empty()) {\n",
        "        int current = to_visit_queue.front();\n",
        "        to_visit_queue.pop();\n",
        "\n",
        "        //cout << current <<\", distance: \" << distance[current] << endl;\n",
        "\n",
        "        for (int neighbor : adjacencyList[current]) {\n",
        "            if (distance[neighbor] == INT_MAX) { // neighbor not visited yet\n",
        "                distance[neighbor] = distance[current] + 1;\n",
        "\n",
        "                to_visit_queue.push(neighbor);\n",
        "            }\n",
        "        }\n",
        "    }\n",
        "}\n",
        "\n",
        "int main() {\n",
        "    string filename = \"graph_output.txt\";\n",
        "    vector<vector<int>> graph = readGraphFromFile(filename);\n",
        "\n",
        "    //  for (int i = 0; i < graph.size(); ++i) {\n",
        "    //     cout << \"Node \" << i << \": \";\n",
        "    //     for (int neighbor : graph[i]) {\n",
        "    //         cout << neighbor << \" \";\n",
        "    //     }\n",
        "    //     cout << endl;\n",
        "    // }\n",
        "\n",
        "    vector<vector<int>> graph_small = {\n",
        "        {1, 2},\n",
        "        {0, 3, 4},\n",
        "        {0, 4, 5},\n",
        "        {1, 6},\n",
        "        {1, 2, 5},\n",
        "        {2, 4},\n",
        "        {3}\n",
        "    };\n",
        "\n",
        "    int start_node = 0;\n",
        "    vector<int> distance;\n",
        "    distance = vector<int>(graph.size());\n",
        "\n",
        "    clock_t tCPU;\n",
        "    tCPU = clock();\n",
        "\n",
        "    bfs_cpu(graph, start_node, distance);\n",
        "\n",
        "    tCPU = clock() - tCPU;\n",
        "    double timeTakenCPU = ((double)tCPU) / CLOCKS_PER_SEC * 1000;\n",
        "    printf(\"Graph [1000 nodes]: CPU took %f ms to execute \\n\", timeTakenCPU);\n",
        "\n",
        "\n",
        "    int start_node2 = 0;\n",
        "    vector<int> distance2;\n",
        "    distance2 = vector<int>(graph_small.size());\n",
        "\n",
        "    clock_t tCPU2;\n",
        "    tCPU2 = clock();\n",
        "\n",
        "    bfs_cpu(graph_small, start_node2, distance2);\n",
        "\n",
        "    tCPU2 = clock() - tCPU2;\n",
        "    double timeTakenCPU2 = ((double)tCPU2) / CLOCKS_PER_SEC * 1000;\n",
        "    printf(\"Graph [7 nodes]: CPU took %f ms to execute \\n\", timeTakenCPU2);\n",
        "\n",
        "    return 0;\n",
        "}"
      ],
      "metadata": {
        "colab": {
          "base_uri": "https://localhost:8080/"
        },
        "id": "EiKjU338Tx6C",
        "outputId": "cfdad78c-b763-4dea-b0f3-6f6b8c55ba80"
      },
      "execution_count": 3,
      "outputs": [
        {
          "output_type": "stream",
          "name": "stdout",
          "text": [
            "Writing bfs_cpu.cpp\n"
          ]
        }
      ]
    },
    {
      "cell_type": "code",
      "source": [
        "%%shell\n",
        "g++ bfs_cpu.cpp -o bfs_cpu"
      ],
      "metadata": {
        "colab": {
          "base_uri": "https://localhost:8080/"
        },
        "id": "EzoS0wN8URGT",
        "outputId": "c55319cf-3b74-4694-8bd3-1c05a7f8fd4e"
      },
      "execution_count": 4,
      "outputs": [
        {
          "output_type": "execute_result",
          "data": {
            "text/plain": []
          },
          "metadata": {},
          "execution_count": 4
        }
      ]
    },
    {
      "cell_type": "code",
      "source": [
        "%%shell\n",
        "./bfs_cpu"
      ],
      "metadata": {
        "colab": {
          "base_uri": "https://localhost:8080/"
        },
        "id": "6gof_DEeUVFi",
        "outputId": "9fe2d8e9-0c4a-4e85-d919-953a07dc6ebc"
      },
      "execution_count": 5,
      "outputs": [
        {
          "output_type": "stream",
          "name": "stdout",
          "text": [
            "Graph [1000 nodes]: CPU took 0.264000 ms to execute \n",
            "Graph [7 nodes]: CPU took 0.003000 ms to execute \n"
          ]
        },
        {
          "output_type": "execute_result",
          "data": {
            "text/plain": []
          },
          "metadata": {},
          "execution_count": 5
        }
      ]
    },
    {
      "cell_type": "markdown",
      "source": [
        "# GPU"
      ],
      "metadata": {
        "id": "U9vXTSeGUBOe"
      }
    },
    {
      "cell_type": "code",
      "source": [
        "%%writefile bfs2.cu\n",
        "\n",
        "#include <iostream>\n",
        "#include <vector>\n",
        "#include <climits>\n",
        "#include <cuda_runtime.h>\n",
        "#include <fstream>\n",
        "#include <sstream>\n",
        "#include <string>\n",
        "\n",
        "using namespace std;\n",
        "\n",
        "\n",
        "cudaError_t bfs_gpu(const vector<vector<int>> &graph, int start_node, vector<int> &distance);\n",
        "\n",
        "__global__\n",
        "void simpleKernel(int level) {\n",
        "    printf(\"simple kernel\\n\");\n",
        "}\n",
        "\n",
        "\n",
        "__global__\n",
        "void computeNextLevel(int *adjacencyList, int *offsets, int *distance, int *currentFrontier, int frontierSize, int *nextFrontier, int *nextFrontierSize, int level) {\n",
        "    const int tid = blockIdx.x * blockDim.x + threadIdx.x;\n",
        "    if (tid >= frontierSize) return;\n",
        "\n",
        "    int currentNode = currentFrontier[tid];\n",
        "    int start = offsets[currentNode];\n",
        "    int end = offsets[currentNode + 1];\n",
        "\n",
        "    for (int i = start; i < end; ++i) {\n",
        "        int neighbor = adjacencyList[i];\n",
        "\n",
        "        if (atomicCAS(&distance[neighbor], INT_MAX, level + 1) == INT_MAX) {\n",
        "            int position = atomicAdd(nextFrontierSize, 1);\n",
        "            nextFrontier[position] = neighbor;\n",
        "        }\n",
        "    }\n",
        "}\n",
        "\n",
        "cudaError_t bfs_gpu(const vector<vector<int>> &graph, int start_node, vector<int> &distance) {\n",
        "    cudaError_t cudaStatus;\n",
        "\n",
        "    int frontier_size = 1;\n",
        "    const int NEXT_FRONTIER_SIZE = 0;\n",
        "    int level = 0;\n",
        "    int threads_per_block = 256;\n",
        "\n",
        "    int num_nodes = graph.size();\n",
        "\n",
        "    vector<int> adjacencyList;\n",
        "    vector<int> offsets(num_nodes + 1, 0);\n",
        "\n",
        "    for (int i = 0; i < num_nodes; ++i) {\n",
        "        offsets[i + 1] = offsets[i] + graph[i].size();\n",
        "        adjacencyList.insert(adjacencyList.end(), graph[i].begin(), graph[i].end());\n",
        "    }\n",
        "\n",
        "    int *d_adjacencyList = 0;\n",
        "    int *d_offsets = 0;\n",
        "    int *d_distance = 0;\n",
        "    int *d_frontier = 0;\n",
        "    int *d_nextFrontier = 0;\n",
        "    int *d_nextFrontierSize = 0;\n",
        "\n",
        "    cudaStatus = cudaMalloc((void**)&d_adjacencyList, adjacencyList.size() * sizeof(int));\n",
        "    if (cudaStatus != cudaSuccess) {\n",
        "        fprintf(stderr, \"cudaMalloc failed for d_adjacencyList!\");\n",
        "        goto Error;\n",
        "    }\n",
        "\n",
        "    cudaStatus = cudaMalloc((void**)&d_offsets, offsets.size() * sizeof(int));\n",
        "    if (cudaStatus != cudaSuccess) {\n",
        "        fprintf(stderr, \"cudaMalloc failed for d_offsets!\");\n",
        "        goto Error;\n",
        "    }\n",
        "\n",
        "    cudaStatus = cudaMalloc((void**)&d_distance, num_nodes * sizeof(int));\n",
        "    if (cudaStatus != cudaSuccess) {\n",
        "        fprintf(stderr, \"cudaMalloc failed for d_distance!\");\n",
        "        goto Error;\n",
        "    }\n",
        "\n",
        "    cudaStatus = cudaMalloc((void**)&d_frontier, num_nodes * sizeof(int));\n",
        "    if (cudaStatus != cudaSuccess) {\n",
        "        fprintf(stderr, \"cudaMalloc failed for d_frontier!\");\n",
        "        goto Error;\n",
        "    }\n",
        "\n",
        "    cudaStatus = cudaMalloc((void**)&d_nextFrontier, num_nodes * sizeof(int));\n",
        "    if (cudaStatus != cudaSuccess) {\n",
        "        fprintf(stderr, \"cudaMalloc failed for d_nextFrontier!\");\n",
        "        goto Error;\n",
        "    }\n",
        "\n",
        "    cudaStatus = cudaMalloc((void**)&d_nextFrontierSize, sizeof(int));\n",
        "    if (cudaStatus != cudaSuccess) {\n",
        "        fprintf(stderr, \"cudaMalloc failed for d_nextFrontierSize!\");\n",
        "        goto Error;\n",
        "    }\n",
        "\n",
        "\n",
        "    // host to device\n",
        "    cudaMemcpy(d_adjacencyList, adjacencyList.data(), adjacencyList.size() * sizeof(int), cudaMemcpyHostToDevice);\n",
        "    cudaMemcpy(d_offsets, offsets.data(), offsets.size() * sizeof(int), cudaMemcpyHostToDevice);\n",
        "\n",
        "    distance.assign(num_nodes, INT_MAX);\n",
        "    distance[start_node] = 0;\n",
        "    cudaMemcpy(d_distance, distance.data(), num_nodes * sizeof(int), cudaMemcpyHostToDevice);\n",
        "    cudaMemcpy(d_frontier, &start_node, sizeof(int), cudaMemcpyHostToDevice);\n",
        "\n",
        "    while (frontier_size > 0) {\n",
        "        cudaMemcpy(d_nextFrontierSize, &NEXT_FRONTIER_SIZE, sizeof(int), cudaMemcpyHostToDevice);\n",
        "\n",
        "        int *d_currentQueue = (level % 2 == 0) ? d_frontier : d_nextFrontier;\n",
        "        int *d_nextQueue = (level % 2 == 0) ? d_nextFrontier : d_frontier;\n",
        "\n",
        "        int blocks = (frontier_size + threads_per_block - 1) / threads_per_block;\n",
        "        computeNextLevel<<<blocks, threads_per_block>>>(d_adjacencyList, d_offsets, d_distance, d_currentQueue, frontier_size, d_nextQueue, d_nextFrontierSize, level);\n",
        "\n",
        "        cudaError_t err = cudaGetLastError();\n",
        "        if (err != cudaSuccess) {\n",
        "            cout << \"CUDA error: \" << err << endl;\n",
        "            exit(-1);\n",
        "        }\n",
        "        cudaDeviceSynchronize();\n",
        "\n",
        "        cudaMemcpy(&frontier_size, d_nextFrontierSize, sizeof(int), cudaMemcpyDeviceToHost);\n",
        "\n",
        "        //cout << \"Level \" << level << \", frontier size: \" << frontier_size << endl;\n",
        "\n",
        "        ++level;\n",
        "    }\n",
        "\n",
        "    // device to host\n",
        "    cudaMemcpy(distance.data(), d_distance, num_nodes * sizeof(int), cudaMemcpyDeviceToHost);\n",
        "\n",
        "Error:\n",
        "    cudaFree(d_adjacencyList);\n",
        "    cudaFree(d_offsets);\n",
        "    cudaFree(d_distance);\n",
        "    cudaFree(d_frontier);\n",
        "    cudaFree(d_nextFrontier);\n",
        "    cudaFree(d_nextFrontierSize);\n",
        "\n",
        "    return cudaStatus;\n",
        "}\n",
        "\n",
        "\n",
        "\n",
        "vector<vector<int>> readGraphFromFile(const string& filename) {\n",
        "    ifstream inputFile(filename);\n",
        "    if (!inputFile) {\n",
        "        cerr << \"Eroare la deschiderea fisierului!\" << endl;\n",
        "        return {};\n",
        "    }\n",
        "\n",
        "    vector<vector<int>> graph;\n",
        "    string line;\n",
        "\n",
        "    while (getline(inputFile, line)) {\n",
        "        stringstream ss(line);\n",
        "        vector<int> neighbors;\n",
        "        int neighbor;\n",
        "\n",
        "        while (ss >> neighbor) {\n",
        "            neighbors.push_back(neighbor);\n",
        "        }\n",
        "\n",
        "        graph.push_back(neighbors);\n",
        "    }\n",
        "\n",
        "    inputFile.close();\n",
        "    return graph;\n",
        "}\n",
        "\n",
        "int main() {\n",
        "\n",
        "    // ------------------------Graph [1000 nodes]-------------------------------\n",
        "\n",
        "    string filename = \"graph_output.txt\";\n",
        "    vector<vector<int>> graph = readGraphFromFile(filename);\n",
        "\n",
        "\n",
        "    int start_node = 0;\n",
        "    vector<int> distance;\n",
        "\n",
        "    clock_t tGPU;\n",
        "    tGPU = clock();\n",
        "\n",
        "    cudaError_t cudaStatus = bfs_gpu(graph, start_node, distance);\n",
        "\n",
        "    if (cudaStatus != cudaSuccess) {\n",
        "        fprintf(stderr, \"bfs_gpu failed!\");\n",
        "        return 1;\n",
        "    }\n",
        "\n",
        "    tGPU = clock() - tGPU;\n",
        "    double timeTakenGPU = ((double)tGPU) / CLOCKS_PER_SEC * 1000;\n",
        "    printf(\"Graph [1000 nodes]: GPU took %f ms to execute \\n\", timeTakenGPU);\n",
        "\n",
        "    //for (int i = 0; i < distance.size(); ++i) {\n",
        "    //    cout << \"Node \" << i << \", Distance: \" << distance[i] << endl;\n",
        "    //}\n",
        "\n",
        "\n",
        "    // -------------------------------------------------------------------------\n",
        "\n",
        "\n",
        "    // ----------------------------Graph [7 nodes]------------------------------\n",
        "    /*\n",
        "    vector<vector<int>> graph_small = {\n",
        "        {1, 2},\n",
        "        {0, 3, 4},\n",
        "        {0, 4, 5},\n",
        "        {1, 6},\n",
        "        {1, 2, 5},\n",
        "        {2, 4},\n",
        "        {3}\n",
        "    };\n",
        "\n",
        "\n",
        "    int start_node2 = 0;\n",
        "    vector<int> distance2;\n",
        "\n",
        "    clock_t tGPU2;\n",
        "    tGPU2 = clock();\n",
        "\n",
        "    cudaError_t cudaStatus2 = bfs_gpu(graph_small, start_node2, distance2);\n",
        "\n",
        "\n",
        "    tGPU2 = clock() - tGPU2;\n",
        "    double timeTakenGPU2 = ((double)tGPU2) / CLOCKS_PER_SEC * 1000;\n",
        "    printf(\"Graph [7 nodes]: GPU took %f ms to execute \\n\", timeTakenGPU2);\n",
        "\n",
        "    if (cudaStatus2 != cudaSuccess) {\n",
        "        fprintf(stderr, \"bfs_gpu failed!\");\n",
        "        return 1;\n",
        "    }\n",
        "    */\n",
        "\n",
        "    return 0;\n",
        "}"
      ],
      "metadata": {
        "colab": {
          "base_uri": "https://localhost:8080/"
        },
        "id": "AZ97LFje9RVs",
        "outputId": "5bb977b3-546e-40f4-9619-05c4b4fb72cf"
      },
      "execution_count": 11,
      "outputs": [
        {
          "output_type": "stream",
          "name": "stdout",
          "text": [
            "Overwriting bfs2.cu\n"
          ]
        }
      ]
    },
    {
      "cell_type": "markdown",
      "metadata": {
        "id": "Y7Tz-xo3d1oX"
      },
      "source": [
        "That's another big speedup from running multiple blocks!"
      ]
    },
    {
      "cell_type": "code",
      "source": [
        "%%shell\n",
        "\n",
        "nvcc bfs2.cu -o bfs2\n",
        "\n",
        "nvprof  ./bfs2\n",
        "\n",
        "#nvprof --print-gpu-trace ./bfs2\n",
        "\n",
        "#ncu -f --set full -o bfs2 ./bfs2"
      ],
      "metadata": {
        "colab": {
          "base_uri": "https://localhost:8080/"
        },
        "id": "j6l78K_m9Wdr",
        "outputId": "6fda252c-b4c8-4a4b-ee90-f16434c6cc0d"
      },
      "execution_count": 12,
      "outputs": [
        {
          "output_type": "stream",
          "name": "stdout",
          "text": [
            "==4600== NVPROF is profiling process 4600, command: ./bfs2\n",
            "Graph [1000 nodes]: GPU took 119.569000 ms to execute \n",
            "==4600== Profiling application: ./bfs2\n",
            "==4600== Profiling result:\n",
            "            Type  Time(%)      Time     Calls       Avg       Min       Max  Name\n",
            " GPU activities:   85.62%  133.95us         5  26.789us  19.487us  35.199us  computeNextLevel(int*, int*, int*, int*, int, int*, int*, int)\n",
            "                    7.49%  11.712us         9  1.3010us     640ns  5.6640us  [CUDA memcpy HtoD]\n",
            "                    6.89%  10.784us         6  1.7970us  1.6000us  2.0800us  [CUDA memcpy DtoH]\n",
            "      API calls:   96.34%  90.358ms         6  15.060ms  2.5340us  90.340ms  cudaMalloc\n",
            "                    2.92%  2.7417ms         5  548.34us  7.5740us  2.7052ms  cudaLaunchKernel\n",
            "                    0.22%  205.28us         6  34.213us  3.8080us  177.92us  cudaFree\n",
            "                    0.21%  193.68us        15  12.911us  5.6890us  32.761us  cudaMemcpy\n",
            "                    0.15%  136.48us         5  27.296us  11.455us  38.787us  cudaDeviceSynchronize\n",
            "                    0.14%  131.61us       114  1.1540us     138ns  51.746us  cuDeviceGetAttribute\n",
            "                    0.01%  10.939us         1  10.939us  10.939us  10.939us  cuDeviceGetName\n",
            "                    0.01%  7.4290us         1  7.4290us  7.4290us  7.4290us  cuDeviceGetPCIBusId\n",
            "                    0.01%  4.8700us         1  4.8700us  4.8700us  4.8700us  cuDeviceTotalMem\n",
            "                    0.00%  2.0000us         5     400ns     270ns     879ns  cudaGetLastError\n",
            "                    0.00%  1.4730us         3     491ns     189ns     996ns  cuDeviceGetCount\n",
            "                    0.00%     893ns         2     446ns     165ns     728ns  cuDeviceGet\n",
            "                    0.00%     536ns         1     536ns     536ns     536ns  cuModuleGetLoadingMode\n",
            "                    0.00%     238ns         1     238ns     238ns     238ns  cuDeviceGetUuid\n"
          ]
        },
        {
          "output_type": "execute_result",
          "data": {
            "text/plain": []
          },
          "metadata": {},
          "execution_count": 12
        }
      ]
    },
    {
      "cell_type": "code",
      "source": [
        "!cat /proc/cpuinfo\n"
      ],
      "metadata": {
        "colab": {
          "base_uri": "https://localhost:8080/"
        },
        "id": "dtsgGoB672L_",
        "outputId": "1653a7a4-bb1d-412d-a1f9-a599c3dedde5"
      },
      "execution_count": null,
      "outputs": [
        {
          "output_type": "stream",
          "name": "stdout",
          "text": [
            "processor\t: 0\n",
            "vendor_id\t: GenuineIntel\n",
            "cpu family\t: 6\n",
            "model\t\t: 85\n",
            "model name\t: Intel(R) Xeon(R) CPU @ 2.00GHz\n",
            "stepping\t: 3\n",
            "microcode\t: 0xffffffff\n",
            "cpu MHz\t\t: 2000.194\n",
            "cache size\t: 39424 KB\n",
            "physical id\t: 0\n",
            "siblings\t: 2\n",
            "core id\t\t: 0\n",
            "cpu cores\t: 1\n",
            "apicid\t\t: 0\n",
            "initial apicid\t: 0\n",
            "fpu\t\t: yes\n",
            "fpu_exception\t: yes\n",
            "cpuid level\t: 13\n",
            "wp\t\t: yes\n",
            "flags\t\t: fpu vme de pse tsc msr pae mce cx8 apic sep mtrr pge mca cmov pat pse36 clflush mmx fxsr sse sse2 ss ht syscall nx pdpe1gb rdtscp lm constant_tsc rep_good nopl xtopology nonstop_tsc cpuid tsc_known_freq pni pclmulqdq ssse3 fma cx16 pcid sse4_1 sse4_2 x2apic movbe popcnt aes xsave avx f16c rdrand hypervisor lahf_lm abm 3dnowprefetch invpcid_single ssbd ibrs ibpb stibp fsgsbase tsc_adjust bmi1 hle avx2 smep bmi2 erms invpcid rtm mpx avx512f avx512dq rdseed adx smap clflushopt clwb avx512cd avx512bw avx512vl xsaveopt xsavec xgetbv1 xsaves arat md_clear arch_capabilities\n",
            "bugs\t\t: cpu_meltdown spectre_v1 spectre_v2 spec_store_bypass l1tf mds swapgs taa mmio_stale_data retbleed bhi\n",
            "bogomips\t: 4000.38\n",
            "clflush size\t: 64\n",
            "cache_alignment\t: 64\n",
            "address sizes\t: 46 bits physical, 48 bits virtual\n",
            "power management:\n",
            "\n",
            "processor\t: 1\n",
            "vendor_id\t: GenuineIntel\n",
            "cpu family\t: 6\n",
            "model\t\t: 85\n",
            "model name\t: Intel(R) Xeon(R) CPU @ 2.00GHz\n",
            "stepping\t: 3\n",
            "microcode\t: 0xffffffff\n",
            "cpu MHz\t\t: 2000.194\n",
            "cache size\t: 39424 KB\n",
            "physical id\t: 0\n",
            "siblings\t: 2\n",
            "core id\t\t: 0\n",
            "cpu cores\t: 1\n",
            "apicid\t\t: 1\n",
            "initial apicid\t: 1\n",
            "fpu\t\t: yes\n",
            "fpu_exception\t: yes\n",
            "cpuid level\t: 13\n",
            "wp\t\t: yes\n",
            "flags\t\t: fpu vme de pse tsc msr pae mce cx8 apic sep mtrr pge mca cmov pat pse36 clflush mmx fxsr sse sse2 ss ht syscall nx pdpe1gb rdtscp lm constant_tsc rep_good nopl xtopology nonstop_tsc cpuid tsc_known_freq pni pclmulqdq ssse3 fma cx16 pcid sse4_1 sse4_2 x2apic movbe popcnt aes xsave avx f16c rdrand hypervisor lahf_lm abm 3dnowprefetch invpcid_single ssbd ibrs ibpb stibp fsgsbase tsc_adjust bmi1 hle avx2 smep bmi2 erms invpcid rtm mpx avx512f avx512dq rdseed adx smap clflushopt clwb avx512cd avx512bw avx512vl xsaveopt xsavec xgetbv1 xsaves arat md_clear arch_capabilities\n",
            "bugs\t\t: cpu_meltdown spectre_v1 spectre_v2 spec_store_bypass l1tf mds swapgs taa mmio_stale_data retbleed bhi\n",
            "bogomips\t: 4000.38\n",
            "clflush size\t: 64\n",
            "cache_alignment\t: 64\n",
            "address sizes\t: 46 bits physical, 48 bits virtual\n",
            "power management:\n",
            "\n"
          ]
        }
      ]
    },
    {
      "cell_type": "code",
      "source": [
        "!nvidia-smi"
      ],
      "metadata": {
        "colab": {
          "base_uri": "https://localhost:8080/"
        },
        "id": "LI9AI3d1-G9q",
        "outputId": "464fd560-f003-4160-e22f-949659ea56d0"
      },
      "execution_count": null,
      "outputs": [
        {
          "output_type": "stream",
          "name": "stdout",
          "text": [
            "Sun Dec 15 20:17:58 2024       \n",
            "+---------------------------------------------------------------------------------------+\n",
            "| NVIDIA-SMI 535.104.05             Driver Version: 535.104.05   CUDA Version: 12.2     |\n",
            "|-----------------------------------------+----------------------+----------------------+\n",
            "| GPU  Name                 Persistence-M | Bus-Id        Disp.A | Volatile Uncorr. ECC |\n",
            "| Fan  Temp   Perf          Pwr:Usage/Cap |         Memory-Usage | GPU-Util  Compute M. |\n",
            "|                                         |                      |               MIG M. |\n",
            "|=========================================+======================+======================|\n",
            "|   0  Tesla T4                       Off | 00000000:00:04.0 Off |                    0 |\n",
            "| N/A   40C    P8               9W /  70W |      0MiB / 15360MiB |      0%      Default |\n",
            "|                                         |                      |                  N/A |\n",
            "+-----------------------------------------+----------------------+----------------------+\n",
            "                                                                                         \n",
            "+---------------------------------------------------------------------------------------+\n",
            "| Processes:                                                                            |\n",
            "|  GPU   GI   CI        PID   Type   Process name                            GPU Memory |\n",
            "|        ID   ID                                                             Usage      |\n",
            "|=======================================================================================|\n",
            "|  No running processes found                                                           |\n",
            "+---------------------------------------------------------------------------------------+\n"
          ]
        }
      ]
    },
    {
      "cell_type": "code",
      "source": [
        "!nvcc --version"
      ],
      "metadata": {
        "colab": {
          "base_uri": "https://localhost:8080/"
        },
        "id": "z4rG-kjc-Koo",
        "outputId": "aa2ba2ef-a69a-41b5-b264-91160bd43232"
      },
      "execution_count": null,
      "outputs": [
        {
          "output_type": "stream",
          "name": "stdout",
          "text": [
            "nvcc: NVIDIA (R) Cuda compiler driver\n",
            "Copyright (c) 2005-2023 NVIDIA Corporation\n",
            "Built on Tue_Aug_15_22:02:13_PDT_2023\n",
            "Cuda compilation tools, release 12.2, V12.2.140\n",
            "Build cuda_12.2.r12.2/compiler.33191640_0\n"
          ]
        }
      ]
    },
    {
      "cell_type": "code",
      "source": [
        "# Detalii despre sistemul de operare\n",
        "!uname -a"
      ],
      "metadata": {
        "colab": {
          "base_uri": "https://localhost:8080/"
        },
        "id": "sMiPRdZ1-N53",
        "outputId": "ac21f7cd-d2dd-4c6f-8a59-38785f375461"
      },
      "execution_count": null,
      "outputs": [
        {
          "output_type": "stream",
          "name": "stdout",
          "text": [
            "Linux 7c873c32911a 6.1.85+ #1 SMP PREEMPT_DYNAMIC Thu Jun 27 21:05:47 UTC 2024 x86_64 x86_64 x86_64 GNU/Linux\n"
          ]
        }
      ]
    },
    {
      "cell_type": "code",
      "source": [
        "import matplotlib.pyplot as plt\n",
        "\n",
        "\n",
        "nodes = [7, 1000]\n",
        "\n",
        "cpu_times = [0.003, 0.264]\n",
        "gpu_times = [0.023, 0.134]\n",
        "\n",
        "\n",
        "plt.figure(figsize=(8,6))\n",
        "plt.plot(nodes, cpu_times, label='CPU', marker='o', color='b')\n",
        "plt.plot(nodes, gpu_times, label='GPU', marker='o', color='r')\n",
        "\n",
        "plt.xlabel('Dimensiunea grafului (numar de noduri)', fontsize=12)\n",
        "plt.ylabel('Timp de executie pt rulare BFS (ms)', fontsize=12)\n",
        "plt.title('Scalabilitatea solutiilor (GPU vs CPU)', fontsize=14)\n",
        "\n",
        "\n",
        "plt.legend()\n",
        "\n",
        "\n",
        "plt.grid(True)\n",
        "plt.show()\n"
      ],
      "metadata": {
        "colab": {
          "base_uri": "https://localhost:8080/",
          "height": 569
        },
        "id": "gqDb4RuxKNAI",
        "outputId": "5bf3ce75-9ee8-4c2e-8dc1-056917c41770"
      },
      "execution_count": 14,
      "outputs": [
        {
          "output_type": "display_data",
          "data": {
            "text/plain": [
              "<Figure size 800x600 with 1 Axes>"
            ],
            "image/png": "[encoded data removed]"
          },
          "metadata": {}
        }
      ]
    }
  ]
}